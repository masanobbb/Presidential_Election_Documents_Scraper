{
 "cells": [
  {
   "cell_type": "code",
   "execution_count": 1,
   "metadata": {},
   "outputs": [],
   "source": [
    "from urllib import request\n",
    "from bs4 import BeautifulSoup\n",
    "import time\n",
    "import pandas as pd\n",
    "from dateutil import parser\n",
    "import pickle\n",
    "import re\n",
    "import nltk"
   ]
  },
  {
   "cell_type": "markdown",
   "metadata": {},
   "source": [
    "test"
   ]
  },
  {
   "cell_type": "code",
   "execution_count": 32,
   "metadata": {},
   "outputs": [
    {
     "data": {
      "text/plain": [
       "'trump'"
      ]
     },
     "execution_count": 32,
     "metadata": {},
     "output_type": "execute_result"
    }
   ],
   "source": [
    "'donald trump'.split()[-1]"
   ]
  },
  {
   "cell_type": "code",
   "execution_count": 33,
   "metadata": {},
   "outputs": [
    {
     "data": {
      "text/plain": [
       "'trump'"
      ]
     },
     "execution_count": 33,
     "metadata": {},
     "output_type": "execute_result"
    }
   ],
   "source": [
    "'trump'.split()[-1]"
   ]
  },
  {
   "cell_type": "code",
   "execution_count": 34,
   "metadata": {
    "scrolled": false
   },
   "outputs": [],
   "source": [
    "def getDocumentsUrl(person_name, year):\n",
    "    target_url = 'http://www.presidency.ucsb.edu/' + str(year) + '_election.php'\n",
    "\n",
    "    response = request.urlopen(target_url)\n",
    "    body = response.read()\n",
    "    soup = BeautifulSoup(body, \"html.parser\")\n",
    "\n",
    "    for a in soup.find_all('a'):\n",
    "        last_name = person_name.split()[-1]\n",
    "        if last_name in a.get('href').lower():\n",
    "            print(a.get('href'))"
   ]
  },
  {
   "cell_type": "code",
   "execution_count": 35,
   "metadata": {},
   "outputs": [
    {
     "name": "stdout",
     "output_type": "stream",
     "text": [
      "2016_election_speeches.php?candidate=45&campaign=2016TRUMP&doctype=5000\n",
      "2016_election_speeches.php?candidate=45&campaign=2016TRUMP&doctype=5001\n",
      "2016_election_speeches.php?candidate=45&campaign=2016TRUMP&doctype=5002\n"
     ]
    }
   ],
   "source": [
    "getDocumentsUrl('trump', 2016)"
   ]
  },
  {
   "cell_type": "markdown",
   "metadata": {},
   "source": [
    "## GET Trump Speech, Statements and Press Release from http://www.presidency.ucsb.edu"
   ]
  },
  {
   "cell_type": "code",
   "execution_count": 7,
   "metadata": {
    "scrolled": true
   },
   "outputs": [],
   "source": [
    "def getTrumpSpeeches():\n",
    "    speechDf = pd.DataFrame()\n",
    "    baseurl = \"http://www.presidency.ucsb.edu\"\n",
    "    count = 0\n",
    "    \n",
    "    for num, doctype in zip([5000, 5001, 5002],[\"campaign speeches\", \"statements\", \"press releases\"]):\n",
    "        \n",
    "        url = 'http://www.presidency.ucsb.edu/2016_election_speeches.php?candidate=45&campaign=2016TRUMP&doctype=' + str(num)\n",
    "        response = request.urlopen(url)\n",
    "        body = response.read()\n",
    "        soup = BeautifulSoup(body, \"html.parser\")\n",
    "    \n",
    "        for link in soup.find_all('a'):\n",
    "            \n",
    "            href = link.get('href')\n",
    "            \n",
    "            if 'index.php' in href and 'ws' in href:\n",
    "                href = href.replace('..', baseurl)\n",
    "                print(href)\n",
    "\n",
    "                startTime = time.time()\n",
    "                spchPageResponse = request.urlopen(href)\n",
    "                spchPageBody = spchPageResponse.read()\n",
    "                spchSoup = BeautifulSoup(spchPageBody, \"html.parser\")\n",
    "\n",
    "                speech = \"\"\n",
    "                title = \"\"\n",
    "                date = \"\"\n",
    "                text = \"\"\n",
    "                for displaytext in spchSoup.find_all(\"span\", class_=\"displaytext\"):\n",
    "                    text = text + displaytext.text\n",
    "                    break\n",
    "\n",
    "                for paperstitle in spchSoup.find_all(\"span\", class_=\"paperstitle\"):\n",
    "                    title = paperstitle.text\n",
    "                    break\n",
    "\n",
    "                for docdate in spchSoup.find_all(\"span\", class_=\"docdate\"):\n",
    "                    date = parser.parse(docdate.text).strftime('%Y-%m-%d')\n",
    "                    break\n",
    "\n",
    "                speechDf = pd.concat( [speechDf, pd.DataFrame({\"date\":date,\"doctype\":doctype,\"title\":title,\"speech\":speech},index=[count])] )\n",
    "\n",
    "                count = count+1\n",
    "                endTime = time.time()\n",
    "                if 1-(endTime - startTime)>0:\n",
    "                    time.sleep(1)\n",
    "    return speechDf"
   ]
  },
  {
   "cell_type": "code",
   "execution_count": 8,
   "metadata": {
    "scrolled": true
   },
   "outputs": [
    {
     "name": "stdout",
     "output_type": "stream",
     "text": [
      "http://www.presidency.ucsb.edu/ws/index.php?pid=110306\n",
      "http://www.presidency.ucsb.edu/ws/index.php?pid=116597\n",
      "http://www.presidency.ucsb.edu/ws/index.php?pid=117813\n",
      "http://www.presidency.ucsb.edu/ws/index.php?pid=117775\n",
      "http://www.presidency.ucsb.edu/ws/index.php?pid=117790\n",
      "http://www.presidency.ucsb.edu/ws/index.php?pid=117815\n",
      "http://www.presidency.ucsb.edu/ws/index.php?pid=117791\n",
      "http://www.presidency.ucsb.edu/ws/index.php?pid=117935\n",
      "http://www.presidency.ucsb.edu/ws/index.php?pid=118047\n",
      "http://www.presidency.ucsb.edu/ws/index.php?pid=123199\n",
      "http://www.presidency.ucsb.edu/ws/index.php?pid=119744\n",
      "http://www.presidency.ucsb.edu/ws/index.php?pid=122534\n",
      "http://www.presidency.ucsb.edu/ws/index.php?pid=123515\n",
      "http://www.presidency.ucsb.edu/ws/index.php?pid=119503\n",
      "http://www.presidency.ucsb.edu/ws/index.php?pid=119165\n",
      "http://www.presidency.ucsb.edu/ws/index.php?pid=119175\n",
      "http://www.presidency.ucsb.edu/ws/index.php?pid=123197\n",
      "http://www.presidency.ucsb.edu/ws/index.php?pid=119176\n",
      "http://www.presidency.ucsb.edu/ws/index.php?pid=123198\n",
      "http://www.presidency.ucsb.edu/ws/index.php?pid=119806\n",
      "http://www.presidency.ucsb.edu/ws/index.php?pid=119805\n",
      "http://www.presidency.ucsb.edu/ws/index.php?pid=119196\n",
      "http://www.presidency.ucsb.edu/ws/index.php?pid=119198\n",
      "http://www.presidency.ucsb.edu/ws/index.php?pid=119199\n",
      "http://www.presidency.ucsb.edu/ws/index.php?pid=119197\n",
      "http://www.presidency.ucsb.edu/ws/index.php?pid=119177\n",
      "http://www.presidency.ucsb.edu/ws/index.php?pid=119195\n",
      "http://www.presidency.ucsb.edu/ws/index.php?pid=119194\n",
      "http://www.presidency.ucsb.edu/ws/index.php?pid=119204\n",
      "http://www.presidency.ucsb.edu/ws/index.php?pid=119178\n",
      "http://www.presidency.ucsb.edu/ws/index.php?pid=119205\n",
      "http://www.presidency.ucsb.edu/ws/index.php?pid=119193\n",
      "http://www.presidency.ucsb.edu/ws/index.php?pid=119206\n",
      "http://www.presidency.ucsb.edu/ws/index.php?pid=119190\n",
      "http://www.presidency.ucsb.edu/ws/index.php?pid=119209\n",
      "http://www.presidency.ucsb.edu/ws/index.php?pid=119208\n",
      "http://www.presidency.ucsb.edu/ws/index.php?pid=119207\n",
      "http://www.presidency.ucsb.edu/ws/index.php?pid=119192\n",
      "http://www.presidency.ucsb.edu/ws/index.php?pid=119189\n",
      "http://www.presidency.ucsb.edu/ws/index.php?pid=119191\n",
      "http://www.presidency.ucsb.edu/ws/index.php?pid=119203\n",
      "http://www.presidency.ucsb.edu/ws/index.php?pid=119200\n",
      "http://www.presidency.ucsb.edu/ws/index.php?pid=119201\n",
      "http://www.presidency.ucsb.edu/ws/index.php?pid=119202\n",
      "http://www.presidency.ucsb.edu/ws/index.php?pid=119179\n",
      "http://www.presidency.ucsb.edu/ws/index.php?pid=119166\n",
      "http://www.presidency.ucsb.edu/ws/index.php?pid=119167\n",
      "http://www.presidency.ucsb.edu/ws/index.php?pid=119168\n",
      "http://www.presidency.ucsb.edu/ws/index.php?pid=119169\n",
      "http://www.presidency.ucsb.edu/ws/index.php?pid=119170\n",
      "http://www.presidency.ucsb.edu/ws/index.php?pid=119171\n",
      "http://www.presidency.ucsb.edu/ws/index.php?pid=123517\n",
      "http://www.presidency.ucsb.edu/ws/index.php?pid=119173\n",
      "http://www.presidency.ucsb.edu/ws/index.php?pid=119180\n",
      "http://www.presidency.ucsb.edu/ws/index.php?pid=119172\n",
      "http://www.presidency.ucsb.edu/ws/index.php?pid=119174\n",
      "http://www.presidency.ucsb.edu/ws/index.php?pid=119183\n",
      "http://www.presidency.ucsb.edu/ws/index.php?pid=123516\n",
      "http://www.presidency.ucsb.edu/ws/index.php?pid=119184\n",
      "http://www.presidency.ucsb.edu/ws/index.php?pid=119185\n",
      "http://www.presidency.ucsb.edu/ws/index.php?pid=119186\n",
      "http://www.presidency.ucsb.edu/ws/index.php?pid=119875\n",
      "http://www.presidency.ucsb.edu/ws/index.php?pid=119187\n",
      "http://www.presidency.ucsb.edu/ws/index.php?pid=119188\n",
      "http://www.presidency.ucsb.edu/ws/index.php?pid=123518\n",
      "http://www.presidency.ucsb.edu/ws/index.php?pid=123519\n",
      "http://www.presidency.ucsb.edu/ws/index.php?pid=119181\n",
      "http://www.presidency.ucsb.edu/ws/index.php?pid=119182\n",
      "http://www.presidency.ucsb.edu/ws/index.php?pid=122537\n",
      "http://www.presidency.ucsb.edu/ws/index.php?pid=122535\n",
      "http://www.presidency.ucsb.edu/ws/index.php?pid=123513\n",
      "http://www.presidency.ucsb.edu/ws/index.php?pid=123514\n",
      "http://www.presidency.ucsb.edu/ws/index.php?pid=122536\n",
      "http://www.presidency.ucsb.edu/ws/index.php?pid=119495\n",
      "http://www.presidency.ucsb.edu/ws/index.php?pid=113909\n",
      "http://www.presidency.ucsb.edu/ws/index.php?pid=113840\n",
      "http://www.presidency.ucsb.edu/ws/index.php?pid=113921\n",
      "http://www.presidency.ucsb.edu/ws/index.php?pid=113841\n",
      "http://www.presidency.ucsb.edu/ws/index.php?pid=113917\n",
      "http://www.presidency.ucsb.edu/ws/index.php?pid=113839\n",
      "http://www.presidency.ucsb.edu/ws/index.php?pid=113842\n",
      "http://www.presidency.ucsb.edu/ws/index.php?pid=113910\n",
      "http://www.presidency.ucsb.edu/ws/index.php?pid=113908\n",
      "http://www.presidency.ucsb.edu/ws/index.php?pid=113894\n",
      "http://www.presidency.ucsb.edu/ws/index.php?pid=113838\n",
      "http://www.presidency.ucsb.edu/ws/index.php?pid=113898\n",
      "http://www.presidency.ucsb.edu/ws/index.php?pid=113911\n",
      "http://www.presidency.ucsb.edu/ws/index.php?pid=116587\n",
      "http://www.presidency.ucsb.edu/ws/index.php?pid=116588\n",
      "http://www.presidency.ucsb.edu/ws/index.php?pid=116594\n",
      "http://www.presidency.ucsb.edu/ws/index.php?pid=117943\n",
      "http://www.presidency.ucsb.edu/ws/index.php?pid=117808\n",
      "http://www.presidency.ucsb.edu/ws/index.php?pid=117945\n",
      "http://www.presidency.ucsb.edu/ws/index.php?pid=117809\n",
      "http://www.presidency.ucsb.edu/ws/index.php?pid=117810\n",
      "http://www.presidency.ucsb.edu/ws/index.php?pid=117793\n",
      "http://www.presidency.ucsb.edu/ws/index.php?pid=117811\n",
      "http://www.presidency.ucsb.edu/ws/index.php?pid=117797\n",
      "http://www.presidency.ucsb.edu/ws/index.php?pid=117798\n",
      "http://www.presidency.ucsb.edu/ws/index.php?pid=117954\n",
      "http://www.presidency.ucsb.edu/ws/index.php?pid=117782\n",
      "http://www.presidency.ucsb.edu/ws/index.php?pid=117784\n",
      "http://www.presidency.ucsb.edu/ws/index.php?pid=117776\n",
      "http://www.presidency.ucsb.edu/ws/index.php?pid=117780\n",
      "http://www.presidency.ucsb.edu/ws/index.php?pid=117801\n",
      "http://www.presidency.ucsb.edu/ws/index.php?pid=117802\n",
      "http://www.presidency.ucsb.edu/ws/index.php?pid=117794\n",
      "http://www.presidency.ucsb.edu/ws/index.php?pid=117779\n",
      "http://www.presidency.ucsb.edu/ws/index.php?pid=117778\n",
      "http://www.presidency.ucsb.edu/ws/index.php?pid=113866\n",
      "http://www.presidency.ucsb.edu/ws/index.php?pid=113937\n",
      "http://www.presidency.ucsb.edu/ws/index.php?pid=113952\n",
      "http://www.presidency.ucsb.edu/ws/index.php?pid=113977\n",
      "http://www.presidency.ucsb.edu/ws/index.php?pid=113993\n",
      "http://www.presidency.ucsb.edu/ws/index.php?pid=113999\n",
      "http://www.presidency.ucsb.edu/ws/index.php?pid=113939\n",
      "http://www.presidency.ucsb.edu/ws/index.php?pid=113940\n",
      "http://www.presidency.ucsb.edu/ws/index.php?pid=113951\n",
      "http://www.presidency.ucsb.edu/ws/index.php?pid=113955\n",
      "http://www.presidency.ucsb.edu/ws/index.php?pid=113959\n",
      "http://www.presidency.ucsb.edu/ws/index.php?pid=113961\n",
      "http://www.presidency.ucsb.edu/ws/index.php?pid=114001\n",
      "http://www.presidency.ucsb.edu/ws/index.php?pid=114008\n",
      "http://www.presidency.ucsb.edu/ws/index.php?pid=113883\n",
      "http://www.presidency.ucsb.edu/ws/index.php?pid=113899\n",
      "http://www.presidency.ucsb.edu/ws/index.php?pid=113956\n",
      "http://www.presidency.ucsb.edu/ws/index.php?pid=113885\n",
      "http://www.presidency.ucsb.edu/ws/index.php?pid=113988\n",
      "http://www.presidency.ucsb.edu/ws/index.php?pid=113991\n",
      "http://www.presidency.ucsb.edu/ws/index.php?pid=113879\n",
      "http://www.presidency.ucsb.edu/ws/index.php?pid=114000\n",
      "http://www.presidency.ucsb.edu/ws/index.php?pid=113935\n",
      "http://www.presidency.ucsb.edu/ws/index.php?pid=113983\n",
      "http://www.presidency.ucsb.edu/ws/index.php?pid=113997\n",
      "http://www.presidency.ucsb.edu/ws/index.php?pid=113849\n",
      "http://www.presidency.ucsb.edu/ws/index.php?pid=114005\n",
      "http://www.presidency.ucsb.edu/ws/index.php?pid=113929\n",
      "http://www.presidency.ucsb.edu/ws/index.php?pid=113829\n",
      "http://www.presidency.ucsb.edu/ws/index.php?pid=113832\n",
      "http://www.presidency.ucsb.edu/ws/index.php?pid=113892\n",
      "http://www.presidency.ucsb.edu/ws/index.php?pid=113862\n",
      "http://www.presidency.ucsb.edu/ws/index.php?pid=113922\n",
      "http://www.presidency.ucsb.edu/ws/index.php?pid=113926\n",
      "http://www.presidency.ucsb.edu/ws/index.php?pid=113927\n",
      "http://www.presidency.ucsb.edu/ws/index.php?pid=113928\n",
      "http://www.presidency.ucsb.edu/ws/index.php?pid=113895\n",
      "http://www.presidency.ucsb.edu/ws/index.php?pid=113957\n",
      "http://www.presidency.ucsb.edu/ws/index.php?pid=113914\n",
      "http://www.presidency.ucsb.edu/ws/index.php?pid=113915\n"
     ]
    },
    {
     "name": "stdout",
     "output_type": "stream",
     "text": [
      "http://www.presidency.ucsb.edu/ws/index.php?pid=113944\n",
      "http://www.presidency.ucsb.edu/ws/index.php?pid=113947\n",
      "http://www.presidency.ucsb.edu/ws/index.php?pid=113932\n",
      "http://www.presidency.ucsb.edu/ws/index.php?pid=113856\n",
      "http://www.presidency.ucsb.edu/ws/index.php?pid=113998\n",
      "http://www.presidency.ucsb.edu/ws/index.php?pid=113953\n",
      "http://www.presidency.ucsb.edu/ws/index.php?pid=113859\n",
      "http://www.presidency.ucsb.edu/ws/index.php?pid=114002\n",
      "http://www.presidency.ucsb.edu/ws/index.php?pid=113858\n",
      "http://www.presidency.ucsb.edu/ws/index.php?pid=113903\n",
      "http://www.presidency.ucsb.edu/ws/index.php?pid=113905\n",
      "http://www.presidency.ucsb.edu/ws/index.php?pid=113863\n",
      "http://www.presidency.ucsb.edu/ws/index.php?pid=113897\n",
      "http://www.presidency.ucsb.edu/ws/index.php?pid=113967\n",
      "http://www.presidency.ucsb.edu/ws/index.php?pid=113966\n",
      "http://www.presidency.ucsb.edu/ws/index.php?pid=113896\n",
      "http://www.presidency.ucsb.edu/ws/index.php?pid=113945\n",
      "http://www.presidency.ucsb.edu/ws/index.php?pid=113916\n",
      "http://www.presidency.ucsb.edu/ws/index.php?pid=113851\n",
      "http://www.presidency.ucsb.edu/ws/index.php?pid=113924\n",
      "http://www.presidency.ucsb.edu/ws/index.php?pid=113963\n",
      "http://www.presidency.ucsb.edu/ws/index.php?pid=113857\n",
      "http://www.presidency.ucsb.edu/ws/index.php?pid=113852\n",
      "http://www.presidency.ucsb.edu/ws/index.php?pid=113923\n",
      "http://www.presidency.ucsb.edu/ws/index.php?pid=113867\n",
      "http://www.presidency.ucsb.edu/ws/index.php?pid=113875\n",
      "http://www.presidency.ucsb.edu/ws/index.php?pid=113886\n",
      "http://www.presidency.ucsb.edu/ws/index.php?pid=113919\n",
      "http://www.presidency.ucsb.edu/ws/index.php?pid=113971\n",
      "http://www.presidency.ucsb.edu/ws/index.php?pid=113900\n",
      "http://www.presidency.ucsb.edu/ws/index.php?pid=113948\n",
      "http://www.presidency.ucsb.edu/ws/index.php?pid=113860\n",
      "http://www.presidency.ucsb.edu/ws/index.php?pid=113861\n",
      "http://www.presidency.ucsb.edu/ws/index.php?pid=114004\n",
      "http://www.presidency.ucsb.edu/ws/index.php?pid=113943\n",
      "http://www.presidency.ucsb.edu/ws/index.php?pid=113831\n",
      "http://www.presidency.ucsb.edu/ws/index.php?pid=113878\n",
      "http://www.presidency.ucsb.edu/ws/index.php?pid=113884\n",
      "http://www.presidency.ucsb.edu/ws/index.php?pid=117936\n",
      "http://www.presidency.ucsb.edu/ws/index.php?pid=113864\n",
      "http://www.presidency.ucsb.edu/ws/index.php?pid=113978\n",
      "http://www.presidency.ucsb.edu/ws/index.php?pid=113855\n",
      "http://www.presidency.ucsb.edu/ws/index.php?pid=113816\n",
      "http://www.presidency.ucsb.edu/ws/index.php?pid=113854\n",
      "http://www.presidency.ucsb.edu/ws/index.php?pid=113942\n",
      "http://www.presidency.ucsb.edu/ws/index.php?pid=113930\n",
      "http://www.presidency.ucsb.edu/ws/index.php?pid=113962\n",
      "http://www.presidency.ucsb.edu/ws/index.php?pid=113887\n",
      "http://www.presidency.ucsb.edu/ws/index.php?pid=113912\n",
      "http://www.presidency.ucsb.edu/ws/index.php?pid=113964\n",
      "http://www.presidency.ucsb.edu/ws/index.php?pid=113848\n",
      "http://www.presidency.ucsb.edu/ws/index.php?pid=113815\n",
      "http://www.presidency.ucsb.edu/ws/index.php?pid=113814\n",
      "http://www.presidency.ucsb.edu/ws/index.php?pid=113820\n",
      "http://www.presidency.ucsb.edu/ws/index.php?pid=113979\n",
      "http://www.presidency.ucsb.edu/ws/index.php?pid=113833\n",
      "http://www.presidency.ucsb.edu/ws/index.php?pid=113906\n",
      "http://www.presidency.ucsb.edu/ws/index.php?pid=113853\n",
      "http://www.presidency.ucsb.edu/ws/index.php?pid=113873\n",
      "http://www.presidency.ucsb.edu/ws/index.php?pid=113881\n",
      "http://www.presidency.ucsb.edu/ws/index.php?pid=113941\n",
      "http://www.presidency.ucsb.edu/ws/index.php?pid=113907\n",
      "http://www.presidency.ucsb.edu/ws/index.php?pid=113984\n",
      "http://www.presidency.ucsb.edu/ws/index.php?pid=113818\n",
      "http://www.presidency.ucsb.edu/ws/index.php?pid=113846\n",
      "http://www.presidency.ucsb.edu/ws/index.php?pid=113834\n",
      "http://www.presidency.ucsb.edu/ws/index.php?pid=113902\n",
      "http://www.presidency.ucsb.edu/ws/index.php?pid=113931\n",
      "http://www.presidency.ucsb.edu/ws/index.php?pid=113826\n",
      "http://www.presidency.ucsb.edu/ws/index.php?pid=113986\n",
      "http://www.presidency.ucsb.edu/ws/index.php?pid=113828\n",
      "http://www.presidency.ucsb.edu/ws/index.php?pid=113938\n",
      "http://www.presidency.ucsb.edu/ws/index.php?pid=113844\n",
      "http://www.presidency.ucsb.edu/ws/index.php?pid=113865\n",
      "http://www.presidency.ucsb.edu/ws/index.php?pid=113890\n",
      "http://www.presidency.ucsb.edu/ws/index.php?pid=113933\n",
      "http://www.presidency.ucsb.edu/ws/index.php?pid=113965\n",
      "http://www.presidency.ucsb.edu/ws/index.php?pid=113975\n",
      "http://www.presidency.ucsb.edu/ws/index.php?pid=113874\n",
      "http://www.presidency.ucsb.edu/ws/index.php?pid=113877\n",
      "http://www.presidency.ucsb.edu/ws/index.php?pid=113925\n",
      "http://www.presidency.ucsb.edu/ws/index.php?pid=113882\n",
      "http://www.presidency.ucsb.edu/ws/index.php?pid=113830\n",
      "http://www.presidency.ucsb.edu/ws/index.php?pid=113835\n",
      "http://www.presidency.ucsb.edu/ws/index.php?pid=113960\n",
      "http://www.presidency.ucsb.edu/ws/index.php?pid=113969\n",
      "http://www.presidency.ucsb.edu/ws/index.php?pid=113987\n",
      "http://www.presidency.ucsb.edu/ws/index.php?pid=113913\n",
      "http://www.presidency.ucsb.edu/ws/index.php?pid=114006\n",
      "http://www.presidency.ucsb.edu/ws/index.php?pid=113901\n",
      "http://www.presidency.ucsb.edu/ws/index.php?pid=117937\n",
      "http://www.presidency.ucsb.edu/ws/index.php?pid=113845\n",
      "http://www.presidency.ucsb.edu/ws/index.php?pid=113968\n",
      "http://www.presidency.ucsb.edu/ws/index.php?pid=114003\n",
      "http://www.presidency.ucsb.edu/ws/index.php?pid=113870\n",
      "http://www.presidency.ucsb.edu/ws/index.php?pid=113889\n",
      "http://www.presidency.ucsb.edu/ws/index.php?pid=113904\n",
      "http://www.presidency.ucsb.edu/ws/index.php?pid=113946\n",
      "http://www.presidency.ucsb.edu/ws/index.php?pid=113992\n",
      "http://www.presidency.ucsb.edu/ws/index.php?pid=113819\n",
      "http://www.presidency.ucsb.edu/ws/index.php?pid=113837\n",
      "http://www.presidency.ucsb.edu/ws/index.php?pid=113970\n",
      "http://www.presidency.ucsb.edu/ws/index.php?pid=113891\n",
      "http://www.presidency.ucsb.edu/ws/index.php?pid=113936\n",
      "http://www.presidency.ucsb.edu/ws/index.php?pid=113994\n",
      "http://www.presidency.ucsb.edu/ws/index.php?pid=113950\n",
      "http://www.presidency.ucsb.edu/ws/index.php?pid=113974\n",
      "http://www.presidency.ucsb.edu/ws/index.php?pid=113980\n",
      "http://www.presidency.ucsb.edu/ws/index.php?pid=113982\n",
      "http://www.presidency.ucsb.edu/ws/index.php?pid=113958\n",
      "http://www.presidency.ucsb.edu/ws/index.php?pid=113981\n",
      "http://www.presidency.ucsb.edu/ws/index.php?pid=113888\n",
      "http://www.presidency.ucsb.edu/ws/index.php?pid=113996\n",
      "http://www.presidency.ucsb.edu/ws/index.php?pid=113876\n",
      "http://www.presidency.ucsb.edu/ws/index.php?pid=113880\n",
      "http://www.presidency.ucsb.edu/ws/index.php?pid=113871\n",
      "http://www.presidency.ucsb.edu/ws/index.php?pid=113825\n",
      "http://www.presidency.ucsb.edu/ws/index.php?pid=113869\n",
      "http://www.presidency.ucsb.edu/ws/index.php?pid=113823\n",
      "http://www.presidency.ucsb.edu/ws/index.php?pid=113824\n",
      "http://www.presidency.ucsb.edu/ws/index.php?pid=113827\n",
      "http://www.presidency.ucsb.edu/ws/index.php?pid=113868\n",
      "http://www.presidency.ucsb.edu/ws/index.php?pid=113821\n",
      "http://www.presidency.ucsb.edu/ws/index.php?pid=113817\n",
      "http://www.presidency.ucsb.edu/ws/index.php?pid=113893\n",
      "http://www.presidency.ucsb.edu/ws/index.php?pid=113843\n",
      "http://www.presidency.ucsb.edu/ws/index.php?pid=113934\n",
      "http://www.presidency.ucsb.edu/ws/index.php?pid=113973\n",
      "http://www.presidency.ucsb.edu/ws/index.php?pid=113976\n",
      "http://www.presidency.ucsb.edu/ws/index.php?pid=113872\n",
      "http://www.presidency.ucsb.edu/ws/index.php?pid=113836\n",
      "http://www.presidency.ucsb.edu/ws/index.php?pid=113847\n",
      "http://www.presidency.ucsb.edu/ws/index.php?pid=113972\n",
      "http://www.presidency.ucsb.edu/ws/index.php?pid=113990\n",
      "http://www.presidency.ucsb.edu/ws/index.php?pid=113920\n",
      "http://www.presidency.ucsb.edu/ws/index.php?pid=113822\n",
      "http://www.presidency.ucsb.edu/ws/index.php?pid=113850\n",
      "http://www.presidency.ucsb.edu/ws/index.php?pid=113918\n",
      "http://www.presidency.ucsb.edu/ws/index.php?pid=113949\n",
      "http://www.presidency.ucsb.edu/ws/index.php?pid=117939\n",
      "http://www.presidency.ucsb.edu/ws/index.php?pid=116596\n",
      "http://www.presidency.ucsb.edu/ws/index.php?pid=116586\n",
      "http://www.presidency.ucsb.edu/ws/index.php?pid=116590\n",
      "http://www.presidency.ucsb.edu/ws/index.php?pid=116591\n",
      "http://www.presidency.ucsb.edu/ws/index.php?pid=116589\n",
      "http://www.presidency.ucsb.edu/ws/index.php?pid=116595\n",
      "http://www.presidency.ucsb.edu/ws/index.php?pid=116593\n",
      "http://www.presidency.ucsb.edu/ws/index.php?pid=116584\n",
      "http://www.presidency.ucsb.edu/ws/index.php?pid=116592\n"
     ]
    },
    {
     "name": "stdout",
     "output_type": "stream",
     "text": [
      "http://www.presidency.ucsb.edu/ws/index.php?pid=117940\n",
      "http://www.presidency.ucsb.edu/ws/index.php?pid=116585\n",
      "http://www.presidency.ucsb.edu/ws/index.php?pid=117941\n",
      "http://www.presidency.ucsb.edu/ws/index.php?pid=117948\n",
      "http://www.presidency.ucsb.edu/ws/index.php?pid=117803\n",
      "http://www.presidency.ucsb.edu/ws/index.php?pid=117942\n",
      "http://www.presidency.ucsb.edu/ws/index.php?pid=117804\n",
      "http://www.presidency.ucsb.edu/ws/index.php?pid=117805\n",
      "http://www.presidency.ucsb.edu/ws/index.php?pid=117806\n",
      "http://www.presidency.ucsb.edu/ws/index.php?pid=117944\n",
      "http://www.presidency.ucsb.edu/ws/index.php?pid=117807\n",
      "http://www.presidency.ucsb.edu/ws/index.php?pid=117946\n",
      "http://www.presidency.ucsb.edu/ws/index.php?pid=117795\n",
      "http://www.presidency.ucsb.edu/ws/index.php?pid=117947\n",
      "http://www.presidency.ucsb.edu/ws/index.php?pid=117949\n",
      "http://www.presidency.ucsb.edu/ws/index.php?pid=117796\n",
      "http://www.presidency.ucsb.edu/ws/index.php?pid=117812\n",
      "http://www.presidency.ucsb.edu/ws/index.php?pid=117786\n",
      "http://www.presidency.ucsb.edu/ws/index.php?pid=117950\n",
      "http://www.presidency.ucsb.edu/ws/index.php?pid=117814\n",
      "http://www.presidency.ucsb.edu/ws/index.php?pid=117951\n",
      "http://www.presidency.ucsb.edu/ws/index.php?pid=117952\n",
      "http://www.presidency.ucsb.edu/ws/index.php?pid=117953\n",
      "http://www.presidency.ucsb.edu/ws/index.php?pid=117785\n",
      "http://www.presidency.ucsb.edu/ws/index.php?pid=117788\n",
      "http://www.presidency.ucsb.edu/ws/index.php?pid=117799\n",
      "http://www.presidency.ucsb.edu/ws/index.php?pid=117955\n",
      "http://www.presidency.ucsb.edu/ws/index.php?pid=117781\n",
      "http://www.presidency.ucsb.edu/ws/index.php?pid=117956\n",
      "http://www.presidency.ucsb.edu/ws/index.php?pid=117957\n",
      "http://www.presidency.ucsb.edu/ws/index.php?pid=117958\n",
      "http://www.presidency.ucsb.edu/ws/index.php?pid=117959\n",
      "http://www.presidency.ucsb.edu/ws/index.php?pid=117777\n",
      "http://www.presidency.ucsb.edu/ws/index.php?pid=117783\n",
      "http://www.presidency.ucsb.edu/ws/index.php?pid=117960\n",
      "http://www.presidency.ucsb.edu/ws/index.php?pid=117961\n",
      "http://www.presidency.ucsb.edu/ws/index.php?pid=117962\n",
      "http://www.presidency.ucsb.edu/ws/index.php?pid=117963\n",
      "http://www.presidency.ucsb.edu/ws/index.php?pid=117800\n",
      "http://www.presidency.ucsb.edu/ws/index.php?pid=117964\n",
      "http://www.presidency.ucsb.edu/ws/index.php?pid=117965\n",
      "http://www.presidency.ucsb.edu/ws/index.php?pid=117966\n",
      "http://www.presidency.ucsb.edu/ws/index.php?pid=117967\n",
      "http://www.presidency.ucsb.edu/ws/index.php?pid=117968\n",
      "http://www.presidency.ucsb.edu/ws/index.php?pid=117789\n",
      "http://www.presidency.ucsb.edu/ws/index.php?pid=117969\n",
      "http://www.presidency.ucsb.edu/ws/index.php?pid=117970\n",
      "http://www.presidency.ucsb.edu/ws/index.php?pid=117971\n",
      "http://www.presidency.ucsb.edu/ws/index.php?pid=117972\n",
      "http://www.presidency.ucsb.edu/ws/index.php?pid=117973\n",
      "http://www.presidency.ucsb.edu/ws/index.php?pid=117974\n",
      "http://www.presidency.ucsb.edu/ws/index.php?pid=117787\n",
      "http://www.presidency.ucsb.edu/ws/index.php?pid=117975\n",
      "http://www.presidency.ucsb.edu/ws/index.php?pid=117976\n",
      "http://www.presidency.ucsb.edu/ws/index.php?pid=117977\n",
      "http://www.presidency.ucsb.edu/ws/index.php?pid=117978\n",
      "http://www.presidency.ucsb.edu/ws/index.php?pid=124195\n",
      "http://www.presidency.ucsb.edu/ws/index.php?pid=124196\n",
      "http://www.presidency.ucsb.edu/ws/index.php?pid=124194\n",
      "http://www.presidency.ucsb.edu/ws/index.php?pid=124193\n"
     ]
    }
   ],
   "source": [
    "speech = getTrumpSpeeches()"
   ]
  },
  {
   "cell_type": "code",
   "execution_count": 6,
   "metadata": {},
   "outputs": [],
   "source": [
    "with open('trumpSpeechDf.pickle', mode='wb') as f:\n",
    "    pickle.dump(speech, f)"
   ]
  },
  {
   "cell_type": "markdown",
   "metadata": {},
   "source": [
    "## Data Cleaning and Text Preprocessing"
   ]
  },
  {
   "cell_type": "code",
   "execution_count": 73,
   "metadata": {},
   "outputs": [],
   "source": [
    "example1 = BeautifulSoup(speechDf[\"speech\"][0], \"html.parser\")"
   ]
  },
  {
   "cell_type": "code",
   "execution_count": 79,
   "metadata": {
    "collapsed": true
   },
   "outputs": [
    {
     "data": {
      "text/plain": [
       "'Thank you. Thank you very much, everyone. [applause]Sorry to keep you waiting; complicated business; complicated. [applause]Thank you very much. [applause]I\\'ve just received a call from Secretary Clinton. [applause]She congratulated us — it\\'s about us — on our victory, and I congratulated her and her family on a very, very hard-fought campaign. I mean, she — she fought very hard.Hillary has worked very long and very hard over a long period of time, and we owe her a major debt of gratitude for her service to our country. [applause]I mean that very sincerely. [applause]Now it\\'s time for America to bind the wounds of division; have to get together. To all Republicans and Democrats and independents across this nation, I say it is time for us to come together as one united people. [applause]It\\'s time. I pledge to every citizen of our land that I will be president for all Americans, and this is so important to me. [applause]For those who have chosen not to support me in the past, of which there were a few people...[laughter]...I\\'m reaching out to you for your guidance and your help so that we can work together and unify our great country. [applause]As I\\'ve said from the beginning, ours was not a campaign, but rather an incredible and great movement made up of millions of hard-working men and women who love their country and want a better, brighter future for themselves and for their families. [applause]It\\'s a movement comprised of Americans from all races, religions, backgrounds and beliefs who want and expect our government to serve the people, and serve the people it will. [applause]Working together, we will begin the urgent task of rebuilding our nation and renewing the American dream. I\\'ve spent my entire life and business looking at the untapped potential in projects and in people all over the world. That is now what I want to do for our country. [applause]Tremendous potential. I\\'ve gotten to know our country so well — tremendous potential. It\\'s going to be a beautiful thing. Every single American will have the opportunity to realize his or her fullest potential. The forgotten men and women of our country will be forgotten no longer. [applause]We are going to fix our inner cities and rebuild our highways, bridges, tunnels, airports, schools, hospitals. We\\'re going to rebuild our infrastructure, which will become, by the way, second to none. And we will put millions of our people to work as we rebuild it.We will also finally take care of our great veterans. [applause]They\\'ve been so loyal, and I\\'ve gotten to know so many over this 18-month journey. The time I\\'ve spent with them during this campaign has been among my greatest honors. Our veterans are incredible people. We will embark upon a project of national growth and renewal. I will harness the creative talents of our people and we will call upon the best and brightest to leverage their tremendous talent for the benefit of all. It\\'s going to happen. [applause]We have a great economic plan. We will double our growth and have the strongest economy anywhere in the world. At the same time, we will get along with all other nations willing to get along with us. We will be. [applause]We\\'ll have great relationships. We expect to have great, great relationships. No dream is too big, no challenge is too great.Nothing we want for our future is beyond our reach.America will no longer settle for anything less than the best. [applause]We must reclaim our country\\'s destiny and dream big and bold and daring. We have to do that. We\\'re going to dream of things for our country and beautiful things and successful things once again.I want to tell the world community that while we will always put America\\'s interests first, we will deal fairly with everyone, with everyone — all people and all other nations. We will seek common ground, not hostility; partnership, not conflict.And now I\\'d like to take this moment to thank some of the people who really helped me with this, what they are calling tonight, very, very historic victory.First, I want to thank my parents, who I know are looking down on me right now. [applause]Great people. I\\'ve learned so much from them. They were wonderful in every regard. I had truly great parents.I also want to thank my sisters, Maryanne and Elizabeth, who are here with us tonight. And, where are they? They\\'re here someplace. They\\'re very shy, actually. And my brother Robert — my great friend. Where is Robert? Where is Robert? [applause]My brother Robert. And they should all be on this stage, but that\\'s OK. They\\'re great. And also my late brother, Fred. Great guy. Fantastic guy. [applause]Fantastic family. I was very lucky. Great brothers, sisters; great, unbelievable parents.To Melania and Don...[applause]...and Ivanka...[applause]...and Eric and Tiffany and Baron, I love you and I thank you, and especially for putting up with all of those hours. This was tough. [applause]This was tough. This political stuff is nasty and it\\'s tough. So I want to thank my family very much. Really fantastic. Thank you all. Thank you all.And Lara, unbelievable job, unbelievable.Vanessa, thank you. Thank you very much.What a great group. You\\'ve all given me such incredible support, and I will tell you that we have a large group of people. You know, they kept saying we have a small staff. Not so small. Look at all the people that we have. Look at all of these people.And Kellyanne and Chris and Rudy and Steve and David. We have got — we have got tremendously talented people up here. And I want to tell you, it\\'s been — it\\'s been very, very special. I want to give a very special thanks to our former mayor, Rudy Giuliani. [applause]Unbelievable. Unbelievable. He traveled with us and he went through meetings. That Rudy never changes. Where\\'s Rudy? Where is he? Rudy.Governor Chris Christie, folks, was unbelievable. [applause]Thank you, Chris.The first man, first senator, first major, major politician, and let me tell you, he is highly respected in Washington because he\\'s as smart as you get: Senator Jeff Sessions. Where is Jeff? [applause]Great man.Another great man, very tough competitor. He was not easy. He was not easy. Who is that? Is that the mayor that showed up? [laughter]Is that Rudy? Oh, Rudy got up here.Another great man who has been really a friend to me. But I\\'ll tell you, I got to know him as a competitor because he was one of the folks that was negotiating to go against those Democrats: Dr. Ben Carson. Where is Ben? [applause]Where is Ben?And by the way, Mike Huckabee is here someplace, and he is fantastic. Mike and his family, Sarah — thank you very much.General Mike Flynn. Where is Mike? [applause]And General Kellogg. We have over 200 generals and admirals that have endorsed our campaign. And they\\'re special people and it\\'s really an honor. We have 22 congressional Medal of Honor recipients. We have just tremendous people.A very special person who believed me and, you know, I\\'d read reports that I wasn\\'t getting along with him. I never had a bad second with him. He\\'s an unbelievable star. He is...[crosstalk]That\\'s right. How did you possibly guess? So let me tell you about Reince, and I\\'ve said this. I said, Reince — and I know it, I know. Look at all those people over there. I know it. Reince is a superstar. But I said, \"They can\\'t call you a superstar, Reince, unless we win,\" because you can\\'t be called a superstar — like Secretariat — if Secretariat came in second, Secretariat would not have that big, beautiful bronze bust at the track at Belmont.But I\\'ll tell you, Reince is really a star. And he is the hardest-working guy. And in a certain way, I did this — Reince, come up here. Where is Reince? Get over here, Reince. [applause]Boy oh boy oh boy. It\\'s about time you did this, Reince. My God. [applause]Say a few words. No, come on, say something.Republican National Committee Chairman Reince Priebus: Ladies and gentlemen, the next president of the United States, Donald Trump. [applause]Thank you. It\\'s been an honor. God bless. Thank God.The President-elect: We will do a great job. [applause]I look very much forward to being your president, and hopefully at the end of two years or three years or four years, or maybe even eight years... [applause]...you will say, so many of you worked so hard for us, but you will say that — you will say that that was something that you really were very proud to do and I can...[crosstalk]Thank you very much.And I can only say that while the campaign is over, our work on this movement is now really just beginning. [applause]We\\'re going to get to work immediately for the American people. And we\\'re going to be doing a job that hopefully you will be so proud of your president. You\\'ll be so proud. Again, it\\'s my honor. It was an amazing evening. It\\'s been an amazing two-year period. And I love this country. [applause] Thank you. Thank you very much. [applause]Thank you to Mike Pence. Thank you. [applause]'"
      ]
     },
     "execution_count": 79,
     "metadata": {},
     "output_type": "execute_result"
    }
   ],
   "source": [
    "#example1\n",
    "example1.get_text()"
   ]
  },
  {
   "cell_type": "code",
   "execution_count": 80,
   "metadata": {},
   "outputs": [],
   "source": [
    "letters_only = re.sub( \"[^a-zA-Z]\", \" \", speechDf[\"speech\"][0] )"
   ]
  },
  {
   "cell_type": "code",
   "execution_count": 81,
   "metadata": {
    "scrolled": true
   },
   "outputs": [
    {
     "data": {
      "text/plain": [
       "'Thank you  Thank you very much  everyone   applause Sorry to keep you waiting  complicated business  complicated   applause Thank you very much   applause I ve just received a call from Secretary Clinton   applause She congratulated us   it s about us   on our victory  and I congratulated her and her family on a very  very hard fought campaign  I mean  she   she fought very hard Hillary has worked very long and very hard over a long period of time  and we owe her a major debt of gratitude for her service to our country   applause I mean that very sincerely   applause Now it s time for America to bind the wounds of division  have to get together  To all Republicans and Democrats and independents across this nation  I say it is time for us to come together as one united people   applause It s time  I pledge to every citizen of our land that I will be president for all Americans  and this is so important to me   applause For those who have chosen not to support me in the past  of which there were a few people    laughter    I m reaching out to you for your guidance and your help so that we can work together and unify our great country   applause As I ve said from the beginning  ours was not a campaign  but rather an incredible and great movement made up of millions of hard working men and women who love their country and want a better  brighter future for themselves and for their families   applause It s a movement comprised of Americans from all races  religions  backgrounds and beliefs who want and expect our government to serve the people  and serve the people it will   applause Working together  we will begin the urgent task of rebuilding our nation and renewing the American dream  I ve spent my entire life and business looking at the untapped potential in projects and in people all over the world  That is now what I want to do for our country   applause Tremendous potential  I ve gotten to know our country so well   tremendous potential  It s going to be a beautiful thing  Every single American will have the opportunity to realize his or her fullest potential  The forgotten men and women of our country will be forgotten no longer   applause We are going to fix our inner cities and rebuild our highways  bridges  tunnels  airports  schools  hospitals  We re going to rebuild our infrastructure  which will become  by the way  second to none  And we will put millions of our people to work as we rebuild it We will also finally take care of our great veterans   applause They ve been so loyal  and I ve gotten to know so many over this    month journey  The time I ve spent with them during this campaign has been among my greatest honors  Our veterans are incredible people  We will embark upon a project of national growth and renewal  I will harness the creative talents of our people and we will call upon the best and brightest to leverage their tremendous talent for the benefit of all  It s going to happen   applause We have a great economic plan  We will double our growth and have the strongest economy anywhere in the world  At the same time  we will get along with all other nations willing to get along with us  We will be   applause We ll have great relationships  We expect to have great  great relationships  No dream is too big  no challenge is too great Nothing we want for our future is beyond our reach America will no longer settle for anything less than the best   applause We must reclaim our country s destiny and dream big and bold and daring  We have to do that  We re going to dream of things for our country and beautiful things and successful things once again I want to tell the world community that while we will always put America s interests first  we will deal fairly with everyone  with everyone   all people and all other nations  We will seek common ground  not hostility  partnership  not conflict And now I d like to take this moment to thank some of the people who really helped me with this  what they are calling tonight  very  very historic victory First  I want to thank my parents  who I know are looking down on me right now   applause Great people  I ve learned so much from them  They were wonderful in every regard  I had truly great parents I also want to thank my sisters  Maryanne and Elizabeth  who are here with us tonight  And  where are they  They re here someplace  They re very shy  actually  And my brother Robert   my great friend  Where is Robert  Where is Robert   applause My brother Robert  And they should all be on this stage  but that s OK  They re great  And also my late brother  Fred  Great guy  Fantastic guy   applause Fantastic family  I was very lucky  Great brothers  sisters  great  unbelievable parents To Melania and Don    applause    and Ivanka    applause    and Eric and Tiffany and Baron  I love you and I thank you  and especially for putting up with all of those hours  This was tough   applause This was tough  This political stuff is nasty and it s tough  So I want to thank my family very much  Really fantastic  Thank you all  Thank you all And Lara  unbelievable job  unbelievable Vanessa  thank you  Thank you very much What a great group  You ve all given me such incredible support  and I will tell you that we have a large group of people  You know  they kept saying we have a small staff  Not so small  Look at all the people that we have  Look at all of these people And Kellyanne and Chris and Rudy and Steve and David  We have got   we have got tremendously talented people up here  And I want to tell you  it s been   it s been very  very special  I want to give a very special thanks to our former mayor  Rudy Giuliani   applause Unbelievable  Unbelievable  He traveled with us and he went through meetings  That Rudy never changes  Where s Rudy  Where is he  Rudy Governor Chris Christie  folks  was unbelievable   applause Thank you  Chris The first man  first senator  first major  major politician  and let me tell you  he is highly respected in Washington because he s as smart as you get  Senator Jeff Sessions  Where is Jeff   applause Great man Another great man  very tough competitor  He was not easy  He was not easy  Who is that  Is that the mayor that showed up   laughter Is that Rudy  Oh  Rudy got up here Another great man who has been really a friend to me  But I ll tell you  I got to know him as a competitor because he was one of the folks that was negotiating to go against those Democrats  Dr  Ben Carson  Where is Ben   applause Where is Ben And by the way  Mike Huckabee is here someplace  and he is fantastic  Mike and his family  Sarah   thank you very much General Mike Flynn  Where is Mike   applause And General Kellogg  We have over     generals and admirals that have endorsed our campaign  And they re special people and it s really an honor  We have    congressional Medal of Honor recipients  We have just tremendous people A very special person who believed me and  you know  I d read reports that I wasn t getting along with him  I never had a bad second with him  He s an unbelievable star  He is    crosstalk That s right  How did you possibly guess  So let me tell you about Reince  and I ve said this  I said  Reince   and I know it  I know  Look at all those people over there  I know it  Reince is a superstar  But I said   They can t call you a superstar  Reince  unless we win   because you can t be called a superstar   like Secretariat   if Secretariat came in second  Secretariat would not have that big  beautiful bronze bust at the track at Belmont But I ll tell you  Reince is really a star  And he is the hardest working guy  And in a certain way  I did this   Reince  come up here  Where is Reince  Get over here  Reince   applause Boy oh boy oh boy  It s about time you did this  Reince  My God   applause Say a few words  No  come on  say something Republican National Committee Chairman Reince Priebus  Ladies and gentlemen  the next president of the United States  Donald Trump   applause Thank you  It s been an honor  God bless  Thank God The President elect  We will do a great job   applause I look very much forward to being your president  and hopefully at the end of two years or three years or four years  or maybe even eight years     applause    you will say  so many of you worked so hard for us  but you will say that   you will say that that was something that you really were very proud to do and I can    crosstalk Thank you very much And I can only say that while the campaign is over  our work on this movement is now really just beginning   applause We re going to get to work immediately for the American people  And we re going to be doing a job that hopefully you will be so proud of your president  You ll be so proud  Again  it s my honor  It was an amazing evening  It s been an amazing two year period  And I love this country   applause  Thank you  Thank you very much   applause Thank you to Mike Pence  Thank you   applause '"
      ]
     },
     "execution_count": 81,
     "metadata": {},
     "output_type": "execute_result"
    }
   ],
   "source": [
    "letters_only"
   ]
  },
  {
   "cell_type": "code",
   "execution_count": 82,
   "metadata": {
    "collapsed": true
   },
   "outputs": [],
   "source": [
    "lower_case = letters_only.lower()\n",
    "words = lower_case.split()"
   ]
  },
  {
   "cell_type": "code",
   "execution_count": null,
   "metadata": {},
   "outputs": [],
   "source": [
    "nltk.download()"
   ]
  },
  {
   "cell_type": "code",
   "execution_count": null,
   "metadata": {
    "collapsed": true
   },
   "outputs": [],
   "source": []
  }
 ],
 "metadata": {
  "anaconda-cloud": {},
  "kernelspec": {
   "display_name": "Python [conda root]",
   "language": "python",
   "name": "conda-root-py"
  },
  "language_info": {
   "codemirror_mode": {
    "name": "ipython",
    "version": 3
   },
   "file_extension": ".py",
   "mimetype": "text/x-python",
   "name": "python",
   "nbconvert_exporter": "python",
   "pygments_lexer": "ipython3",
   "version": "3.5.4"
  }
 },
 "nbformat": 4,
 "nbformat_minor": 1
}
